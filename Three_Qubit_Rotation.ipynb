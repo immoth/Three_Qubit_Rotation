{
 "cells": [
  {
   "cell_type": "markdown",
   "metadata": {},
   "source": [
    "# Three Qubit Rotation Coefficient function\n",
    "\n",
    "We will use the following two qubit gate set to generate a three qubit rotation:\n",
    "$$R_{ijk}^{zyx}(\\phi) = R_{ij}^{zx}(\\theta)R_{jk}^{zx}(\\theta)R_{ij}^{zx}(-\\theta-\\lambda)R_{jk}^zx(-\\theta+\\tau)$$\n",
    "Here I will write a function that returns $\\theta$, $\\lambda$, and $\\tau$ given $\\phi$ assuming that \n",
    "$$R_{ijk}^{zyx}(\\phi) = \\cos(\\phi)+i \\sin(\\phi) ZYX$$"
   ]
  },
  {
   "cell_type": "code",
   "execution_count": 1,
   "metadata": {},
   "outputs": [],
   "source": [
    "from qiskit import quantum_info as qi\n",
    "import numpy as np\n",
    "import pandas as pd"
   ]
  },
  {
   "cell_type": "markdown",
   "metadata": {},
   "source": [
    "From the mathematica file: C:\\Users\\jsten\\Documents\\Reaserch\\Quantum Gates\\Three_Site_Rotation\\Three_Site_Rotation2\n",
    "\n",
    "I generated the following set of $\\theta$, $\\lambda$, and $\\tau$ values that work together (i.e. these make the two qubit terms cancel).  From these we need to figure out what $\\phi$ values we get."
   ]
  },
  {
   "cell_type": "code",
   "execution_count": 46,
   "metadata": {},
   "outputs": [],
   "source": [
    "angles = []\n",
    "f = open(\"angles.txt\", \"r\")\n",
    "lines = f.readlines()\n",
    "for line in lines:\n",
    "    line = line.replace('{','')\n",
    "    line = line.replace('}','')\n",
    "    line = line.replace('\\n','')\n",
    "    line = line.replace('*^', 'e')\n",
    "    angle_l = line.split(',')\n",
    "    angle_n = [float(angle_l[i]) for i in range(0,3)]\n",
    "    angles.append(angle_n)\n",
    "f.close()\n",
    "angles = np.array(angles)"
   ]
  },
  {
   "cell_type": "markdown",
   "metadata": {},
   "source": [
    "The result of the two qubit get set can be writen in terms of coefficients for each type of operator:\n",
    "$$ R_{ij}^{zx}(\\theta)R_{jk}^{zx}(\\theta)R_{ij}^{zx}(-\\theta-\\lambda)R_{jk}^zx(-\\theta+\\tau) = a(\\theta,\\lambda,\\tau)+i b(\\theta,\\lambda,\\tau) Z_i X_j + i c(\\theta,\\lambda,\\tau) Z_j X_k - i d(\\theta,\\lambda,\\tau) Z_i Y_j X_k $$\n",
    "\n",
    "these coeficients are defined below."
   ]
  },
  {
   "cell_type": "code",
   "execution_count": 74,
   "metadata": {},
   "outputs": [],
   "source": [
    "def a(angle):\n",
    "    h = angle[0]\n",
    "    l = angle[1]\n",
    "    t = angle[2]\n",
    "    a1 = np.cos(-h+t)*np.cos(-h-l)*np.cos(h)*np.cos(h)\n",
    "    a2 = np.sin(-h+t)*np.cos(-h-l)*np.sin(h)*np.cos(h)\n",
    "    a3 = np.sin(-h+t)*np.sin(-h-l)*np.sin(h)*np.sin(h)\n",
    "    a4 = np.cos(-h+t)*np.sin(-h-l)*np.cos(h)*np.sin(h)\n",
    "    return a1 - a2 - a3 - a4\n",
    "\n",
    "def b(angle):\n",
    "    h = angle[0]\n",
    "    l = angle[1]\n",
    "    t = angle[2]\n",
    "    b1 = np.cos(-h+t)*np.cos(-h-l)*np.cos(h)*np.sin(h)\n",
    "    b2 = np.sin(-h+t)*np.cos(-h-l)*np.sin(h)*np.sin(h)\n",
    "    b3 = np.cos(-h+t)*np.sin(-h-l)*np.cos(h)*np.cos(h)\n",
    "    b4 = np.sin(-h+t)*np.sin(-h-l)*np.sin(h)*np.cos(h)\n",
    "    return b1 - b2 + b3 + b4\n",
    "\n",
    "def c(angle):\n",
    "    h = angle[0]\n",
    "    l = angle[1]\n",
    "    t = angle[2]\n",
    "    b1 = np.cos(-h+t)*np.cos(-h-l)*np.sin(h)*np.cos(h)\n",
    "    b2 = np.sin(-h+t)*np.cos(-h-l)*np.cos(h)*np.cos(h)\n",
    "    b3 = np.cos(-h+t)*np.sin(-h-l)*np.sin(h)*np.sin(h)\n",
    "    b4 = np.sin(-h+t)*np.sin(-h-l)*np.cos(h)*np.sin(h)\n",
    "    return b1 + b2 + b3 - b4\n",
    "\n",
    "def d(angle):\n",
    "    h = angle[0]\n",
    "    l = angle[1]\n",
    "    t = angle[2]\n",
    "    b1 = np.cos(-h+t)*np.cos(-h-l)*np.sin(h)*np.sin(h)\n",
    "    b2 = np.sin(-h+t)*np.cos(-h-l)*np.cos(h)*np.sin(h)\n",
    "    b3 = np.cos(-h+t)*np.sin(-h-l)*np.sin(h)*np.cos(h)\n",
    "    b4 = np.sin(-h+t)*np.sin(-h-l)*np.cos(h)*np.cos(h)\n",
    "    return b1 + b2 - b3 + b4\n",
    "\n"
   ]
  },
  {
   "cell_type": "code",
   "execution_count": 76,
   "metadata": {},
   "outputs": [
    {
     "name": "stdout",
     "output_type": "stream",
     "text": [
      "0.9828383769113072\n",
      "1.5265566588595902e-16\n",
      "1.700029006457271e-16\n",
      "0.18446876394215644\n",
      "0.9999999999999997\n"
     ]
    }
   ],
   "source": [
    "#Check that b = c = 0 and that a^2 + d^2 = 1\n",
    "print(a(angles[30]))\n",
    "print(b(angles[30]))\n",
    "print(c(angles[30]))\n",
    "print(d(angles[30]))\n",
    "print(a(angles[30])**2 + d(angles[30])**2 )"
   ]
  },
  {
   "cell_type": "markdown",
   "metadata": {},
   "source": [
    "Now we would like a function which takes $\\phi$ as an input and returns the $\\theta$, $\\lambda$, and $\\tau$ such that $a(\\theta,\\lambda, \\tau) = \\cos(\\phi)$.  To do this, let us create a dictionary which mapes $\\phi$ to an index of the angles."
   ]
  },
  {
   "cell_type": "code",
   "execution_count": 96,
   "metadata": {},
   "outputs": [],
   "source": [
    "phi_to_theta = {np.arccos(a(angles[i])):i for i in range(0,len(angles))}\n",
    "def theta(phi):\n",
    "    key = min(phi_to_theta.keys(), key=lambda k: abs(k-phi)) #finds the closest key to the desired angle\n",
    "    index = phi_to_theta[key]\n",
    "    return angles[index]"
   ]
  },
  {
   "cell_type": "markdown",
   "metadata": {},
   "source": [
    "Now we can check that $a(\\theta,\\lambda, \\tau) = \\cos(\\phi)$"
   ]
  },
  {
   "cell_type": "code",
   "execution_count": 106,
   "metadata": {},
   "outputs": [],
   "source": [
    "import matplotlib.pyplot as plt"
   ]
  },
  {
   "cell_type": "code",
   "execution_count": 118,
   "metadata": {},
   "outputs": [
    {
     "data": {
      "text/plain": [
       "[<matplotlib.lines.Line2D at 0x12881f801f0>]"
      ]
     },
     "execution_count": 118,
     "metadata": {},
     "output_type": "execute_result"
    },
    {
     "data": {
      "image/png": "[encoded data removed]",
      "text/plain": [
       "<Figure size 432x288 with 1 Axes>"
      ]
     },
     "metadata": {
      "needs_background": "light"
     },
     "output_type": "display_data"
    }
   ],
   "source": [
    "dphi = 0.004\n",
    "phi_l = [phi_i*dphi for phi_i in range(0,100)]\n",
    "a_l = [a(theta(phi_i*dphi)) for phi_i in range(0,100)]\n",
    "cos_l = [np.cos(phi_i*dphi) for phi_i in range(0,100)]\n",
    "\n",
    "plt.plot(phi_l,cos_l)\n",
    "plt.plot(phi_l,a_l)"
   ]
  },
  {
   "cell_type": "markdown",
   "metadata": {},
   "source": [
    "We should also have $d(\\theta,\\lambda, \\tau) = \\sin(\\phi)$ which should be guarenteed but we can still check"
   ]
  },
  {
   "cell_type": "code",
   "execution_count": 124,
   "metadata": {},
   "outputs": [
    {
     "data": {
      "text/plain": [
       "[<matplotlib.lines.Line2D at 0x12882185550>]"
      ]
     },
     "execution_count": 124,
     "metadata": {},
     "output_type": "execute_result"
    },
    {
     "data": {
      "image/png": "[encoded data removed]",
      "text/plain": [
       "<Figure size 432x288 with 1 Axes>"
      ]
     },
     "metadata": {
      "needs_background": "light"
     },
     "output_type": "display_data"
    }
   ],
   "source": [
    "d_l = [d(theta(phi_i*dphi)) for phi_i in range(0,100)]\n",
    "sin_l = [np.sin(phi_i*dphi) for phi_i in range(0,100)]\n",
    "\n",
    "plt.plot(phi_l,sin_l)\n",
    "plt.plot(phi_l,d_l)"
   ]
  },
  {
   "cell_type": "markdown",
   "metadata": {},
   "source": [
    "As a final sanity check can make sure that the coefficients are correct by checking $$ R_{ij}^{zx}(\\theta)R_{jk}^{zx}(\\theta)R_{ij}^{zx}(-\\theta-\\lambda)R_{jk}^zx(-\\theta+\\tau) = a(\\theta,\\lambda,\\tau)+i b(\\theta,\\lambda,\\tau) Z_i X_j + i c(\\theta,\\lambda,\\tau) Z_j X_k - i d(\\theta,\\lambda,\\tau) Z_i Y_j X_k $$\n",
    "To do this we will need to define the Pauli operators and the rotation gates.  I will use the quantum information package from qiskit.\n"
   ]
  },
  {
   "cell_type": "code",
   "execution_count": 177,
   "metadata": {},
   "outputs": [],
   "source": [
    "Z0 = qi.Operator.from_label('IIZ').data\n",
    "Z1 = qi.Operator.from_label('IZI').data\n",
    "X1 = qi.Operator.from_label('IXI').data\n",
    "X2 = qi.Operator.from_label('XII').data\n",
    "Y1 = qi.Operator.from_label('IYI').data\n",
    "I0 = qi.Operator.from_label('III').data\n",
    "\n",
    "def R01(theta):\n",
    "    return np.cos(theta)*I0 + 1j*np.sin(theta)*np.dot(Z0,X1)\n",
    "\n",
    "def R12(theta):\n",
    "    return np.cos(theta)*I0 + 1j*np.sin(theta)*np.dot(Z1,X2)\n",
    "\n",
    "# A function which takes the matrix multiplication of a list of operators\n",
    "def Mdot(O):\n",
    "    m_out = O[0]\n",
    "    for i in range(1,len(O)):\n",
    "        m_out = np.dot(O[i],m_out)\n",
    "    return m_out"
   ]
  },
  {
   "cell_type": "code",
   "execution_count": 193,
   "metadata": {},
   "outputs": [
    {
     "data": {
      "text/plain": [
       "(1.1102230246251565e-16+0j)"
      ]
     },
     "execution_count": 193,
     "metadata": {},
     "output_type": "execute_result"
    }
   ],
   "source": [
    "h = 0.3\n",
    "l = 0.04\n",
    "t = 0.1\n",
    "tst = a([h,l,t])*I0 + 1j*b([h,l,t])*Mdot([Z0,X1]) + 1j*c([h,l,t])*Mdot([Z1,X2]) - 1j*d([h,l,t])*Mdot([Z0,Y1,X2]) - Mdot([R01(h),R12(h),R01(-h-l),R12(-h+t)])\n",
    "np.amax(tst)"
   ]
  },
  {
   "cell_type": "code",
   "execution_count": null,
   "metadata": {},
   "outputs": [],
   "source": []
  }
 ],
 "metadata": {
  "kernelspec": {
   "display_name": "Python [conda env:qiskit20_new]",
   "language": "python",
   "name": "conda-env-qiskit20_new-py"
  },
  "language_info": {
   "codemirror_mode": {
    "name": "ipython",
    "version": 3
   },
   "file_extension": ".py",
   "mimetype": "text/x-python",
   "name": "python",
   "nbconvert_exporter": "python",
   "pygments_lexer": "ipython3",
   "version": "3.8.5"
  }
 },
 "nbformat": 4,
 "nbformat_minor": 4
}
